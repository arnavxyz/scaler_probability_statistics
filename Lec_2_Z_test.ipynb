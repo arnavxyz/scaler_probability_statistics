{
  "nbformat": 4,
  "nbformat_minor": 0,
  "metadata": {
    "colab": {
      "provenance": [],
      "include_colab_link": true
    },
    "kernelspec": {
      "name": "python3",
      "display_name": "Python 3"
    },
    "language_info": {
      "name": "python"
    }
  },
  "cells": [
    {
      "cell_type": "markdown",
      "metadata": {
        "id": "view-in-github",
        "colab_type": "text"
      },
      "source": [
        "<a href=\"https://colab.research.google.com/github/arnavxyz/scaler_probability_statistics/blob/main/Lec_2_Z_test.ipynb\" target=\"_parent\"><img src=\"https://colab.research.google.com/assets/colab-badge.svg\" alt=\"Open In Colab\"/></a>"
      ]
    },
    {
      "cell_type": "code",
      "execution_count": null,
      "metadata": {
        "id": "FtOrGQUE41LR"
      },
      "outputs": [],
      "source": [
        "import numpy as np\n",
        "import pandas as pd\n",
        "from scipy.stats import binom,norm"
      ]
    },
    {
      "cell_type": "markdown",
      "source": [
        "coin toss\n",
        "H0: p(heads) = 0.5 <br>\n",
        "H1: p(heads) > 0.5"
      ],
      "metadata": {
        "id": "7VgGlQbaGZqQ"
      }
    },
    {
      "cell_type": "code",
      "source": [
        "# 7H in 10 tosses\n",
        "p_val = 1-binom.cdf(k=6,n=10,p=0.5)\n",
        "print(p_val)"
      ],
      "metadata": {
        "colab": {
          "base_uri": "https://localhost:8080/"
        },
        "id": "utDuJaG_5I7y",
        "outputId": "637607f5-ee0c-4a10-e95f-f281f240fab4"
      },
      "execution_count": null,
      "outputs": [
        {
          "output_type": "stream",
          "name": "stdout",
          "text": [
            "0.171875\n"
          ]
        }
      ]
    },
    {
      "cell_type": "code",
      "source": [
        "def check(p_val):\n",
        "  alpha = 0.05\n",
        "  if p_val<alpha:\n",
        "    print(\"Rejected H0, coin is biased towards Heads\")\n",
        "\n",
        "  else:\n",
        "    print(\"Fail to reject H0, coin is fair\")"
      ],
      "metadata": {
        "id": "2a7dPJzAG5lW"
      },
      "execution_count": null,
      "outputs": []
    },
    {
      "cell_type": "code",
      "source": [
        "check(p_val)"
      ],
      "metadata": {
        "colab": {
          "base_uri": "https://localhost:8080/"
        },
        "id": "-8BmqemWHYbn",
        "outputId": "295b7bec-ae76-47dd-fd5b-09a6e9fb4ff2"
      },
      "execution_count": null,
      "outputs": [
        {
          "output_type": "stream",
          "name": "stdout",
          "text": [
            "Fail to reject H0, coin is fair\n"
          ]
        }
      ]
    },
    {
      "cell_type": "code",
      "source": [
        "# 70H in 100 tosses\n",
        "p_val = 1-binom.cdf(k=69,n=100,p=0.5)\n",
        "print(p_val)"
      ],
      "metadata": {
        "colab": {
          "base_uri": "https://localhost:8080/"
        },
        "id": "kVl9QQDNHZxi",
        "outputId": "4aa9d4f5-428a-49ea-c7e8-c123e407e0d4"
      },
      "execution_count": null,
      "outputs": [
        {
          "output_type": "stream",
          "name": "stdout",
          "text": [
            "3.925069822796612e-05\n"
          ]
        }
      ]
    },
    {
      "cell_type": "code",
      "source": [
        "check(p_val)"
      ],
      "metadata": {
        "colab": {
          "base_uri": "https://localhost:8080/"
        },
        "id": "R5debIT_H1Ll",
        "outputId": "0cf6b5f2-8b3c-4981-a9b3-c741588fcdf9"
      },
      "execution_count": null,
      "outputs": [
        {
          "output_type": "stream",
          "name": "stdout",
          "text": [
            "Rejected H0, coin is biased towards Heads\n"
          ]
        }
      ]
    },
    {
      "cell_type": "markdown",
      "source": [
        "coin toss\n",
        "H0: p = 0.5\n",
        "H1: p <0.5"
      ],
      "metadata": {
        "id": "LQ8cxqobMDqU"
      }
    },
    {
      "cell_type": "code",
      "source": [
        "#3h in 10 tosses\n",
        "p_val = binom.cdf(k=3,n=10,p=0.5)\n",
        "print(p_val)\n",
        "check(p_val)"
      ],
      "metadata": {
        "colab": {
          "base_uri": "https://localhost:8080/"
        },
        "id": "teN3kvAXH9q9",
        "outputId": "8d1a95d6-68c8-4c80-ff65-625d00d21038"
      },
      "execution_count": null,
      "outputs": [
        {
          "output_type": "stream",
          "name": "stdout",
          "text": [
            "0.171875\n",
            "Fail to reject H0, coin is fair\n"
          ]
        }
      ]
    },
    {
      "cell_type": "code",
      "source": [
        "#coin toss H0: p=0.5 H1: p!=0.5\n",
        "#p_val = P(k<=3 or k>=7)\n",
        "p_val = binom.cdf(k=3,n=10,p=0.5) + (1-binom.cdf(k=6,n=10,p=0.5))\n",
        "print(p_val)\n",
        "check(p_val)"
      ],
      "metadata": {
        "colab": {
          "base_uri": "https://localhost:8080/"
        },
        "id": "U1qrK8uFMdEe",
        "outputId": "5c17f460-2aa1-4474-9c24-5d9c5c3463ab"
      },
      "execution_count": null,
      "outputs": [
        {
          "output_type": "stream",
          "name": "stdout",
          "text": [
            "0.34375\n",
            "Fail to reject H0, coin is fair\n"
          ]
        }
      ]
    },
    {
      "cell_type": "code",
      "source": [],
      "metadata": {
        "id": "PTNIMtvqMX0x"
      },
      "execution_count": null,
      "outputs": []
    }
  ]
}