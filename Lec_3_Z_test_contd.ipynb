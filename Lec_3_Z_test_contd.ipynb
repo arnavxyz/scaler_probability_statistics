{
  "nbformat": 4,
  "nbformat_minor": 0,
  "metadata": {
    "colab": {
      "provenance": [],
      "include_colab_link": true
    },
    "kernelspec": {
      "name": "python3",
      "display_name": "Python 3"
    },
    "language_info": {
      "name": "python"
    }
  },
  "cells": [
    {
      "cell_type": "markdown",
      "metadata": {
        "id": "view-in-github",
        "colab_type": "text"
      },
      "source": [
        "<a href=\"https://colab.research.google.com/github/arnavxyz/scaler_probability_statistics/blob/main/Lec_3_Z_test_contd.ipynb\" target=\"_parent\"><img src=\"https://colab.research.google.com/assets/colab-badge.svg\" alt=\"Open In Colab\"/></a>"
      ]
    },
    {
      "cell_type": "code",
      "execution_count": 2,
      "metadata": {
        "id": "VGkYDCDYtXth"
      },
      "outputs": [],
      "source": [
        "import numpy as np\n",
        "import pandas as pd\n",
        "import random\n",
        "from scipy.stats import norm"
      ]
    },
    {
      "cell_type": "markdown",
      "source": [
        "# Critical Value"
      ],
      "metadata": {
        "id": "rmW8RAyZtxxx"
      }
    },
    {
      "cell_type": "code",
      "source": [
        "# Observed Z-statistic\n",
        "z = (1850-1800)/(100/50**0.5)\n",
        "print(z)\n",
        "\n",
        "p_val = 1 - norm.cdf(z)\n",
        "print(p_val)"
      ],
      "metadata": {
        "colab": {
          "base_uri": "https://localhost:8080/"
        },
        "id": "xPj-qiAdMBKZ",
        "outputId": "f0f309f3-e802-43b3-d973-be2665fa6c35"
      },
      "execution_count": 3,
      "outputs": [
        {
          "output_type": "stream",
          "name": "stdout",
          "text": [
            "3.5355339059327378\n",
            "0.00020347600872250293\n"
          ]
        }
      ]
    },
    {
      "cell_type": "code",
      "source": [
        "# mu = 1800 std = 100 n = 50 alpha = 0.01\n",
        "# step-1: compute Z-critical\n",
        "z_cr = norm.ppf(1 - 0.01)\n",
        "print(z_cr)\n",
        "\n",
        "se = 100/np.sqrt(50)\n",
        "x_cr = 1800 + (z_cr*se)\n",
        "print(x_cr)"
      ],
      "metadata": {
        "colab": {
          "base_uri": "https://localhost:8080/"
        },
        "id": "DsYI0e8_tv-g",
        "outputId": "351717a4-31a2-4cf7-dccd-233bde5ed75b"
      },
      "execution_count": 4,
      "outputs": [
        {
          "output_type": "stream",
          "name": "stdout",
          "text": [
            "2.3263478740408408\n",
            "1832.8995271426638\n"
          ]
        }
      ]
    },
    {
      "cell_type": "markdown",
      "source": [
        "As avg. weekly sales for 50 stores is 1850 which is greater than 1832, we can reject the null hypothesis"
      ],
      "metadata": {
        "id": "DGQupkfNu6_U"
      }
    },
    {
      "cell_type": "markdown",
      "source": [
        "# Confidence Interval"
      ],
      "metadata": {
        "id": "Naiu5XEqvLXB"
      }
    },
    {
      "cell_type": "code",
      "source": [
        "# Observed sales in 50 stores 1850, what can be the population mean\n",
        "# pop. mean lies between [sample mean - Z99*SE,sample mean + Z99*SE] with 99% confidence\n",
        "z = norm.ppf(0.99)\n",
        "lb = 1850 - z*se\n",
        "ub = 1850 + z*se\n",
        "lb,ub"
      ],
      "metadata": {
        "colab": {
          "base_uri": "https://localhost:8080/"
        },
        "id": "T4hILIOGuCog",
        "outputId": "ff75a28a-8713-4064-dd85-8f39dc48a6ba"
      },
      "execution_count": 5,
      "outputs": [
        {
          "output_type": "execute_result",
          "data": {
            "text/plain": [
              "(1817.1004728573362, 1882.8995271426638)"
            ]
          },
          "metadata": {},
          "execution_count": 5
        }
      ]
    },
    {
      "cell_type": "markdown",
      "source": [
        "# Power of Test"
      ],
      "metadata": {
        "id": "sqhA2Yi83xF7"
      }
    },
    {
      "cell_type": "code",
      "source": [
        "from statsmodels.stats import power"
      ],
      "metadata": {
        "id": "3543myhA3s46"
      },
      "execution_count": 6,
      "outputs": []
    },
    {
      "cell_type": "code",
      "source": [
        "data = [55, 45, 52, 48, 55, 52, 52, 53, 48, 52, 53, 47, 54, 51, 52,\n",
        "        51, 48, 52, 53, 54, 51, 51, 52, 54, 47, 52, 53, 48, 51, 54]\n",
        "samp_mean = np.mean(data)\n",
        "samp_std = np.std(data)\n",
        "sample_size = len(data)\n",
        "print(samp_mean, samp_std)"
      ],
      "metadata": {
        "colab": {
          "base_uri": "https://localhost:8080/"
        },
        "id": "KTj4HXSlwOoA",
        "outputId": "48b1c039-00b7-4c43-de0a-a61bb7b05784"
      },
      "execution_count": 7,
      "outputs": [
        {
          "output_type": "stream",
          "name": "stdout",
          "text": [
            "51.333333333333336 2.5342103744997613\n"
          ]
        }
      ]
    },
    {
      "cell_type": "code",
      "source": [
        "hypo_mean = 50\n",
        "alpha = 0.05\n",
        "effect_size = (samp_mean - hypo_mean) / samp_std\n",
        "print(effect_size)"
      ],
      "metadata": {
        "colab": {
          "base_uri": "https://localhost:8080/"
        },
        "id": "SzbuhOgE4JfD",
        "outputId": "df2c3510-e8fb-402d-ffd1-16984124c6ac"
      },
      "execution_count": 8,
      "outputs": [
        {
          "output_type": "stream",
          "name": "stdout",
          "text": [
            "0.5261336417646574\n"
          ]
        }
      ]
    },
    {
      "cell_type": "code",
      "source": [
        "power = power.zt_ind_solve_power(effect_size=effect_size,\n",
        "                                 nobs1=sample_size,\n",
        "                                 alpha=alpha,\n",
        "                                 ratio=0,\n",
        "                                 alternative='two-sided')\n",
        "\n",
        "print('Power of the test:', power)"
      ],
      "metadata": {
        "colab": {
          "base_uri": "https://localhost:8080/"
        },
        "id": "LBmtTetZ4xeC",
        "outputId": "4e2f6de8-1f69-4ddd-ddd9-98b18d0f2cf8"
      },
      "execution_count": 9,
      "outputs": [
        {
          "output_type": "stream",
          "name": "stdout",
          "text": [
            "Power of the test: 0.8216812302268112\n"
          ]
        }
      ]
    },
    {
      "cell_type": "markdown",
      "source": [
        "# Two Sample Z-test"
      ],
      "metadata": {
        "id": "ZQJBrwsG6Hjw"
      }
    },
    {
      "cell_type": "code",
      "source": [
        "np.random.seed(123)\n",
        "\n",
        "#generating 100 patients recovery time between 5days and 20days\n",
        "sample1 = np.random.uniform(5, 20, 100)\n",
        "#generating 90 patients recovery times between 5 and 30 days\n",
        "sample2 = np.random.uniform(5, 30, 90)\n",
        "\n",
        "sample1 = np.round(sample1,0)\n",
        "sample2 = np.round(sample2,0)\n",
        "\n",
        "print(sample1[:4])\n",
        "print(sample2[:4])"
      ],
      "metadata": {
        "colab": {
          "base_uri": "https://localhost:8080/"
        },
        "id": "bG3rNmb-5ZVR",
        "outputId": "4e904cba-b2fb-430c-cb95-971cab7c1d5f"
      },
      "execution_count": 10,
      "outputs": [
        {
          "output_type": "stream",
          "name": "stdout",
          "text": [
            "[15.  9.  8. 13.]\n",
            "[18. 22.  8.  8.]\n"
          ]
        }
      ]
    },
    {
      "cell_type": "code",
      "source": [
        "x1 = np.mean(sample1)\n",
        "x2 = np.mean(sample2)\n",
        "s1 = np.std(sample1)\n",
        "s2 = np.std(sample2)\n",
        "n1= len(sample1)\n",
        "n2 = len(sample2)\n",
        "\n",
        "print(x1,s1)\n",
        "print(x2,s2)\n",
        "\n",
        "def test_stat(x1,x2,s1,s2,n1,n2):\n",
        "  num = x1-x2\n",
        "  den = np.sqrt((s1**2/n1) + (s2**2/n2))\n",
        "  return num/den\n",
        "\n",
        "z_stat = test_stat(x1,x2,s1,s2,n1,n2)\n",
        "print(z_stat)"
      ],
      "metadata": {
        "colab": {
          "base_uri": "https://localhost:8080/"
        },
        "id": "8ycPyov-7kgI",
        "outputId": "53af4da6-3e5d-4eb3-cafe-43454cb79b06"
      },
      "execution_count": 11,
      "outputs": [
        {
          "output_type": "stream",
          "name": "stdout",
          "text": [
            "12.47 3.6890513685770223\n",
            "17.92222222222222 7.169732333106659\n",
            "-6.483126653564481\n"
          ]
        }
      ]
    },
    {
      "cell_type": "code",
      "source": [],
      "metadata": {
        "id": "UJ5dG8a-tVL4"
      },
      "execution_count": 11,
      "outputs": []
    },
    {
      "cell_type": "code",
      "source": [
        "p_val = 2*(1 - norm.cdf(abs(z_stat)))\n",
        "print(p_val)"
      ],
      "metadata": {
        "colab": {
          "base_uri": "https://localhost:8080/"
        },
        "id": "SUIT1T2e9DTu",
        "outputId": "43f37e66-241d-464e-a1d7-1660a600f72c"
      },
      "execution_count": 12,
      "outputs": [
        {
          "output_type": "stream",
          "name": "stdout",
          "text": [
            "8.984102350950707e-11\n"
          ]
        }
      ]
    },
    {
      "cell_type": "code",
      "source": [
        "from statsmodels.stats import weightstats\n",
        "\n",
        "z_score, pval = weightstats.ztest(x1 = sample1, x2 = sample2, value = 0, alternative = 'two-sided')\n",
        "print(\"Z-score: \", z_score)\n",
        "print(\"p-value: \", pval)\n",
        "\n"
      ],
      "metadata": {
        "colab": {
          "base_uri": "https://localhost:8080/"
        },
        "id": "aeZ6XOuR9Ok2",
        "outputId": "30107edd-247c-4a96-d090-35776348dbdd"
      },
      "execution_count": 13,
      "outputs": [
        {
          "output_type": "stream",
          "name": "stdout",
          "text": [
            "Z-score:  -6.649347653377499\n",
            "p-value:  2.943948874914636e-11\n"
          ]
        }
      ]
    },
    {
      "cell_type": "code",
      "source": [
        "# left tailed test\n",
        "# H1: mu1<mu2\n",
        "p_val = norm.cdf(z_stat)\n",
        "p_val"
      ],
      "metadata": {
        "id": "qa2t60Yj9qL6",
        "colab": {
          "base_uri": "https://localhost:8080/"
        },
        "outputId": "fba4e781-af1b-4440-b62c-0667772921aa"
      },
      "execution_count": 14,
      "outputs": [
        {
          "output_type": "execute_result",
          "data": {
            "text/plain": [
              "4.492050878648636e-11"
            ]
          },
          "metadata": {},
          "execution_count": 14
        }
      ]
    },
    {
      "cell_type": "code",
      "source": [
        "# left tailed test --> alternative = \"smaller\"\n",
        "z_score, pval = weightstats.ztest(x1 = sample1, x2 = sample2, value = 0, alternative = 'smaller')\n",
        "print(\"Z-score: \", z_score)\n",
        "print(\"p-value: \", pval)"
      ],
      "metadata": {
        "colab": {
          "base_uri": "https://localhost:8080/"
        },
        "id": "dFhDEclarcXa",
        "outputId": "39e336cd-3f92-4641-895a-3486bb0781ae"
      },
      "execution_count": 15,
      "outputs": [
        {
          "output_type": "stream",
          "name": "stdout",
          "text": [
            "Z-score:  -6.649347653377499\n",
            "p-value:  1.471974437457318e-11\n"
          ]
        }
      ]
    },
    {
      "cell_type": "code",
      "source": [
        "# right tailed test --> alternative = \"larger\"\n",
        "# h1: mu1>mu2\n",
        "z_score, pval = weightstats.ztest(x1 = sample1, x2 = sample2, value = 0, alternative = 'larger')\n",
        "print(\"Z-score: \", z_score)\n",
        "print(\"p-value: \", pval)"
      ],
      "metadata": {
        "colab": {
          "base_uri": "https://localhost:8080/"
        },
        "id": "l-wOnpZkr7IN",
        "outputId": "dcf0ba1b-8cf6-42c3-c948-072082e9a297"
      },
      "execution_count": 16,
      "outputs": [
        {
          "output_type": "stream",
          "name": "stdout",
          "text": [
            "Z-score:  -6.649347653377499\n",
            "p-value:  0.9999999999852802\n"
          ]
        }
      ]
    },
    {
      "cell_type": "code",
      "source": [
        "z_stat = test_stat(30,32,3,2.5,50,60)\n",
        "print(z_stat)"
      ],
      "metadata": {
        "id": "GzneiRirskTt",
        "outputId": "701a5fbb-e41c-41a7-be4f-37591a528df5",
        "colab": {
          "base_uri": "https://localhost:8080/"
        }
      },
      "execution_count": 19,
      "outputs": [
        {
          "output_type": "stream",
          "name": "stdout",
          "text": [
            "-3.751832396884334\n"
          ]
        }
      ]
    },
    {
      "cell_type": "code",
      "source": [
        "p_val = norm.cdf(z_stat)\n",
        "print(p_val)"
      ],
      "metadata": {
        "id": "wYNwDUFntc98",
        "outputId": "46dc7e54-eb43-46e3-8dfb-e5e4c74e3d08",
        "colab": {
          "base_uri": "https://localhost:8080/"
        }
      },
      "execution_count": 21,
      "outputs": [
        {
          "output_type": "stream",
          "name": "stdout",
          "text": [
            "8.777340507285842e-05\n"
          ]
        }
      ]
    }
  ]
}